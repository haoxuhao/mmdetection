{
 "cells": [
  {
   "cell_type": "code",
   "execution_count": 4,
   "metadata": {},
   "outputs": [
    {
     "data": {
      "text/plain": [
       "True"
      ]
     },
     "execution_count": 4,
     "metadata": {},
     "output_type": "execute_result"
    }
   ],
   "source": [
    "import cv2\n",
    "import numpy as np\n",
    "\n",
    "bbox = [2652, 81, 786, 786]\n",
    "\n",
    "org_img = cv2.imread(\"00010030.jpg\")\n",
    "\n",
    "crop_img = org_img[bbox[1]:bbox[3]+bbox[1], bbox[0]:bbox[2]+bbox[0],:]\n",
    "\n",
    "cv2.imwrite(\"crop.jpg\", crop_img)"
   ]
  },
  {
   "cell_type": "code",
   "execution_count": 6,
   "metadata": {},
   "outputs": [
    {
     "data": {
      "text/plain": [
       "True"
      ]
     },
     "execution_count": 6,
     "metadata": {},
     "output_type": "execute_result"
    }
   ],
   "source": [
    "mask = np.zeros(org_img.shape)\n",
    "\n",
    "mask[bbox[1]:bbox[3]+bbox[1], bbox[0]:bbox[2]+bbox[0], :] = 1\n",
    "\n",
    "pad_img = mask*org_img\n",
    "\n",
    "cv2.imwrite(\"pad.jpg\", pad_img)"
   ]
  },
  {
   "cell_type": "code",
   "execution_count": null,
   "metadata": {},
   "outputs": [],
   "source": [
    "'''\n",
    "网络训练时习惯了800x800这种图像的padding情况，测试是如果变大为2160x2160则会使得网络的每层数据不同，由于padding原因。\n",
    "因此为了保证测试与训练时候的一致性，输入尺寸最好也是800x800左右。\n",
    "\n",
    "压缩图片，信息会减少，因此可以使用切割的方法来保证输入小，且目标不被缩小太严重\n",
    "'''"
   ]
  }
 ],
 "metadata": {
  "kernelspec": {
   "display_name": "Python 3",
   "language": "python",
   "name": "python3"
  },
  "language_info": {
   "codemirror_mode": {
    "name": "ipython",
    "version": 3
   },
   "file_extension": ".py",
   "mimetype": "text/x-python",
   "name": "python",
   "nbconvert_exporter": "python",
   "pygments_lexer": "ipython3",
   "version": "3.6.4"
  }
 },
 "nbformat": 4,
 "nbformat_minor": 2
}
