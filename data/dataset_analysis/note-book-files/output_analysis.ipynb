{
 "cells": [
  {
   "cell_type": "code",
   "execution_count": 19,
   "metadata": {},
   "outputs": [
    {
     "name": "stdout",
     "output_type": "stream",
     "text": [
      "['00010031_right','00010038_right','00010787_right','00000029_left','00000069_left','10001204_left','00010835_right','00010030_left','10004210_left','00010023_right','00010763_right','00010757_right','00010763_left','10001156_left','00010884_right','10004202_left','00010853_right','00010030_right','00000053_right','00010031_left','00010803_left','00010787_left','00010846_right','00000028_left','00010835_left','00010757_left','00010852_right','00000029_right','00010784_right','00010023_left','10001503_left','00010883_left',]"
     ]
    }
   ],
   "source": [
    "import os\n",
    "import os.path as osp\n",
    "import math\n",
    "import pickle\n",
    "import numpy as np\n",
    "from scipy import stats\n",
    "\n",
    "def read_pkl(pkl_file):\n",
    "    results = pickle.load(open(pkl_file, 'rb'), encoding='utf-8')\n",
    "    return results\n",
    "\n",
    "\n",
    "image_dir = \"/mnt/nfs/hangkongbei/voc-style/split_dataset/JPEGImages\"\n",
    "val_set_path = \"/mnt/nfs/hangkongbei/voc-style/split_dataset/ImageSets/Main/val.txt\"\n",
    "with open(val_set_path, \"r\") as f:\n",
    "    image_paths = [osp.join(image_dir, file.strip()+\".jpg\") for file in f.readlines()]\n",
    "    \n",
    "result_file = \"../../work_dirs/ga_retinanet_x101_32x4d_fpn_1x/results.pkl\"\n",
    "\n",
    "results = read_pkl(result_file)\n",
    "\n",
    "size_thresh = 35\n",
    "print(\"[\",end=\"\")\n",
    "for i, result in enumerate(results):\n",
    "    bboxes = result[0]\n",
    "    if bboxes.shape[0]<1:\n",
    "        #print(\"'%s'\"%(osp.basename((image_paths[i]).split(\".\")[0])), end=\",\")\n",
    "        continue\n",
    "    areas = (bboxes[:,2]-bboxes[:,0])*(bboxes[:,3]-bboxes[:,1])\n",
    "    \n",
    "    #zongshu = stats.mode(areas)[0][0]\n",
    "    \n",
    "    mean_ares = np.median(areas)\n",
    "    mean_len = math.pow(mean_ares, 0.5)\n",
    "    if mean_len < size_thresh:\n",
    "        print(\"'%s'\"%(osp.basename((image_paths[i]).split(\".\")[0])), end=\",\")\n",
    "print(\"]\",end=\"\")\n",
    "\n",
    "        \n"
   ]
  },
  {
   "cell_type": "code",
   "execution_count": 2,
   "metadata": {},
   "outputs": [
    {
     "data": {
      "text/plain": [
       "1.5874010519681994"
      ]
     },
     "execution_count": 2,
     "metadata": {},
     "output_type": "execute_result"
    }
   ],
   "source": [
    "2**(2/3)"
   ]
  }
 ],
 "metadata": {
  "kernelspec": {
   "display_name": "Python 3",
   "language": "python",
   "name": "python3"
  },
  "language_info": {
   "codemirror_mode": {
    "name": "ipython",
    "version": 3
   },
   "file_extension": ".py",
   "mimetype": "text/x-python",
   "name": "python",
   "nbconvert_exporter": "python",
   "pygments_lexer": "ipython3",
   "version": "3.6.4"
  }
 },
 "nbformat": 4,
 "nbformat_minor": 2
}
