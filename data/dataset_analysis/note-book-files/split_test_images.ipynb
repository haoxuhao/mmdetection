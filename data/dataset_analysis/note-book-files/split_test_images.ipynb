{
 "cells": [
  {
   "cell_type": "code",
   "execution_count": 11,
   "metadata": {},
   "outputs": [
    {
     "name": "stderr",
     "output_type": "stream",
     "text": [
      "100%|██████████| 2238/2238 [11:39<00:00,  3.12it/s]\n"
     ]
    }
   ],
   "source": [
    "from PIL import Image  \n",
    "import os\n",
    "import os.path as osp\n",
    "from tqdm import tqdm\n",
    "\n",
    "image_dir = \"/root/datasets/testset/JPEGImages\"\n",
    "val_set_path = \"/root/datasets/testset/ImageSets/Main/test.txt\"\n",
    "\n",
    "test_images_id_file = \"/root/datasets/testset/ImageSets/Main/test_split.txt\"\n",
    "test_image_save_dir = \"/root/datasets/testset/split_images\"\n",
    "\n",
    "if not osp.exists(test_image_save_dir):\n",
    "    os.makedirs(test_image_save_dir)\n",
    "    \n",
    "with open(val_set_path, \"r\") as f:\n",
    "    image_paths = [osp.join(image_dir, file.strip()+\".jpg\") for file in f.readlines()]\n",
    "    \n",
    "ext=\"jpeg\"\n",
    "margin = 160\n",
    "\n",
    "outfile = open(test_images_id_file, \"w\")\n",
    "\n",
    "for img_path in tqdm(image_paths):\n",
    "    img = Image.open(img_path)\n",
    "    imageid = osp.basename(img_path).split(\".\")[0]\n",
    "    w,h = img.size\n",
    "    if w <= 2 * h :\n",
    "        #print('图片切割为两个正方形')\n",
    "        box = (0, 0, h+margin, h)#设置左、上、右、下的像素\n",
    "        left_image_path = osp.join(test_image_save_dir, imageid+\"_left_%d.jpg\"%(box[2]))\n",
    "        img.crop(box).save(left_image_path, ext)\n",
    "        box = (w-h-margin, 0, w, h)#设置左、上、右、下的像素\n",
    "        right_image_path = osp.join(test_image_save_dir, imageid+\"_right_%d.jpg\"%(box[0]))\n",
    "        img.crop(box).save(right_image_path, ext)\n",
    "        outfile.write(osp.basename(left_image_path).split(\".\")[0]+\"\\n\")\n",
    "        outfile.write(osp.basename(right_image_path).split(\".\")[0]+\"\\n\")\n",
    "        \n",
    "    elif w > 2 * h :\n",
    "        #print('w > 2 * h 图片切割为两部分')\n",
    "        box = (0, 0, w//2+margin, h)#设置左、上、右、下的像素\n",
    "        left_image_path = osp.join(test_image_save_dir, imageid+\"_left_%d.jpg\"%(box[2]))\n",
    "        \n",
    "        img.crop(box).save(left_image_path, ext)\n",
    "        box = (w//2-margin, 0, w, h)#设置左、上、右、下的像素\n",
    "        right_image_path = osp.join(test_image_save_dir, imageid+\"_right_%d.jpg\"%(box[0]))\n",
    "        img.crop(box).save(right_image_path, ext)\n",
    "        \n",
    "        outfile.write(osp.basename(left_image_path).split(\".\")[0]+\"\\n\")\n",
    "        outfile.write(osp.basename(right_image_path).split(\".\")[0]+\"\\n\")\n",
    "        \n",
    "outfile.close()\n",
    "        "
   ]
  },
  {
   "cell_type": "code",
   "execution_count": 12,
   "metadata": {},
   "outputs": [
    {
     "data": {
      "text/plain": [
       "['00100705_left_2320\\n',\n",
       " '00100705_right_1776\\n',\n",
       " '00101011_left_2320\\n',\n",
       " '00101011_right_1776\\n',\n",
       " '00100986_left_2320\\n',\n",
       " '00100986_right_1776\\n',\n",
       " '00101036_left_2320\\n',\n",
       " '00101036_right_1776\\n',\n",
       " '00100625_left_2320\\n',\n",
       " '00100625_right_1776\\n']"
      ]
     },
     "execution_count": 12,
     "metadata": {},
     "output_type": "execute_result"
    }
   ],
   "source": [
    "with open(test_images_id_file, \"r\") as f:\n",
    "    lines=f.readlines()\n",
    "lines[:10]"
   ]
  },
  {
   "cell_type": "code",
   "execution_count": null,
   "metadata": {},
   "outputs": [],
   "source": []
  }
 ],
 "metadata": {
  "kernelspec": {
   "display_name": "Python 3",
   "language": "python",
   "name": "python3"
  },
  "language_info": {
   "codemirror_mode": {
    "name": "ipython",
    "version": 3
   },
   "file_extension": ".py",
   "mimetype": "text/x-python",
   "name": "python",
   "nbconvert_exporter": "python",
   "pygments_lexer": "ipython3",
   "version": "3.6.4"
  }
 },
 "nbformat": 4,
 "nbformat_minor": 2
}
